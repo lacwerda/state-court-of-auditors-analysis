{
 "cells": [
  {
   "cell_type": "code",
   "execution_count": null,
   "id": "eb2769e9",
   "metadata": {},
   "outputs": [],
   "source": [
    "import pandas as pd \n",
    "import numpy as np\n",
    "import sys\n",
    "import os\n",
    "\n",
    "from tqdm import tqdm\n",
    "\n",
    "import gensim\n",
    "import gensim.corpora as corpora\n",
    "from gensim.utils import simple_preprocess\n",
    "from gensim.models import CoherenceModel\n",
    "from gensim.models.doc2vec import Doc2Vec, TaggedDocument\n",
    "\n",
    "import spacy \n",
    "import nltk\n",
    "from sklearn.feature_extraction.text import CountVectorizer, TfidfVectorizer\n",
    "import re\n",
    "\n",
    "from sklearn.cluster import KMeans\n",
    "\n",
    "import pyLDAvis\n",
    "import pyLDAvis.gensim_models\n",
    "import matplotlib.pyplot as plt\n",
    "from matplotlib.ticker import FuncFormatter\n",
    "%matplotlib inline\n",
    "import seaborn as sns\n",
    "\n",
    "import pprint"
   ]
  },
  {
   "cell_type": "code",
   "execution_count": null,
   "id": "d6ce69b3",
   "metadata": {},
   "outputs": [],
   "source": [
    "nlp=spacy.load('pt_core_news_sm')\n",
    "nltk.download('stopwords')"
   ]
  },
  {
   "cell_type": "code",
   "execution_count": null,
   "id": "72540f74",
   "metadata": {},
   "outputs": [],
   "source": [
    "filenames = os.listdir('data')"
   ]
  },
  {
   "cell_type": "code",
   "execution_count": null,
   "id": "e83688bd",
   "metadata": {},
   "outputs": [],
   "source": [
    "licita = []\n",
    "licita_all = np.NaN\n",
    "\n",
    "cols = ['CD_ORGAO', 'NM_ORGAO', 'NR_LICITACAO', 'ANO_LICITACAO', 'CD_TIPO_MODALIDADE', 'NR_COMISSAO', 'ANO_COMISSAO', 'TP_COMISSAO', 'NR_PROCESSO', 'ANO_PROCESSO', 'TP_OBJETO', 'CD_TIPO_FASE_ATUAL', 'TP_LICITACAO', 'DS_OBJETO', 'VL_LICITACAO', 'VL_HOMOLOGADO']\n",
    "\n",
    "for path in filenames:\n",
    "    aux = pd.read_csv(os.path.join('data', path, 'licitacao.csv'), usecols=cols)\n",
    "\n",
    "    licita.append(aux)\n",
    "\n",
    "    if type(licita_all)==type(np.NaN):\n",
    "        licita_all = aux\n",
    "\n",
    "    else:\n",
    "        licita_all = licita_all.append(aux)"
   ]
  },
  {
   "cell_type": "code",
   "execution_count": null,
   "id": "a979841a",
   "metadata": {},
   "outputs": [],
   "source": [
    "item = []\n",
    "item_all = np.NaN\n",
    "\n",
    "for path in filenames:\n",
    "    aux = pd.read_csv(os.path.join('data', path, 'item.csv'), usecols=[n for n in range (0,13)])\n",
    "\n",
    "    item.append(aux)\n",
    "\n",
    "    if type(item_all)==type(np.NaN):\n",
    "        item_all = aux\n",
    "\n",
    "    else:\n",
    "        item_all = item_all.append(aux)"
   ]
  },
  {
   "cell_type": "code",
   "execution_count": null,
   "id": "cef2a6a5",
   "metadata": {},
   "outputs": [],
   "source": [
    "item_all = item_all.dropna()\n",
    "licita_all = licita_all.dropna()"
   ]
  },
  {
   "cell_type": "markdown",
   "id": "63c5e022",
   "metadata": {},
   "source": [
    "## Data cleaning"
   ]
  },
  {
   "cell_type": "code",
   "execution_count": null,
   "id": "bba55026",
   "metadata": {},
   "outputs": [],
   "source": [
    "stopwords = nltk.corpus.stopwords.words('portuguese') # Carregamento das stopwords em português\n",
    "\n",
    "# Caracteres especiais a serem deletados. Sendo unidades de medida e símbolos especiais que não agregam valor a análise\n",
    "filter_out = stopwords + ['kg', 'm', 'cm', 'mm', 'mg', 'ml', 'm²', '-', '+', '=', 'mcg', 'nº', 'g', 'ª', 'º']\n",
    "\n",
    "# Função de tratamento\n",
    "def processing_tokenization(sentence):\n",
    "    sentence = sentence.lower() # Caixa baixa\n",
    "    sentence = re.sub(r\"[^\\w\\s]\", \"\",sentence) # Exclusão de caracteres especiais\n",
    "    sentence = re.sub(\"[0-9]+\",\"\", sentence) # Exclusão de dígitos\n",
    "    sentence = re.sub(\"/+\",\"\", sentence) # Exclusão de \"/\"\n",
    "    sentence = re.sub(' +', ' ', sentence) # Exclusão de espaçamentos repetitivos entre as frases\n",
    "\n",
    "    doc=nlp(sentence) # Tokenização\n",
    "\n",
    "    tokens=[token.text for token in doc]\n",
    "    tokens=[token for token in tokens if token not in filter_out] # Filtragem adicional com os caracteres em filter_out\n",
    "\n",
    "    return tokens"
   ]
  },
  {
   "cell_type": "code",
   "execution_count": null,
   "id": "e7cc8204",
   "metadata": {},
   "outputs": [],
   "source": [
    "item_all['DS_ITEM_TOK'] = item_all['DS_ITEM'].apply(lambda x: processing_tokenization(x))"
   ]
  },
  {
   "cell_type": "code",
   "execution_count": null,
   "id": "21203e1e",
   "metadata": {},
   "outputs": [],
   "source": [
    "licita_all['DS_OBJECT_TOK'] = licita_all['DS_OBJETO'].apply(lambda x: processing_tokenization(x))"
   ]
  },
  {
   "cell_type": "markdown",
   "id": "790addd7",
   "metadata": {},
   "source": [
    "## Vectorizer and KMeans"
   ]
  },
  {
   "cell_type": "code",
   "execution_count": null,
   "id": "930c3630",
   "metadata": {},
   "outputs": [],
   "source": [
    "def identity_tokenizer(text):\n",
    "    return text\n",
    "\n",
    "vectorizer = TfidfVectorizer(min_df = 30, lowercase=False, tokenizer=identity_tokenizer)\n",
    "tfidf = vectorizer.fit_transform(licita_all['DS_OBJECT_TOK'])"
   ]
  },
  {
   "cell_type": "code",
   "execution_count": null,
   "id": "95e2b7cd",
   "metadata": {},
   "outputs": [],
   "source": [
    "import warnings\n",
    "warnings.filterwarnings('ignore')\n",
    "\n",
    "wcss = []\n",
    "minimum=2\n",
    "maximum=45\n",
    "step=3\n",
    "\n",
    "for n in tqdm(range(minimum, maximum, step)):\n",
    "    kmeans_model = KMeans(n_clusters=n, init='k-means++', max_iter=500, n_jobs=-1, algorithm='full', precompute_distances=True)\n",
    "    kmeans_model.fit(tfidf)\n",
    "    wcss.append(kmeans_model.inertia_)\n",
    "\n",
    "# Show graph\n",
    "x = range(minimum, maximum, step)\n",
    "\n",
    "plt.plot(x, wcss)\n",
    "plt.xlabel(\"Num Topic\")\n",
    "plt.ylabel(\"Intracluster Squared Sum\")\n",
    "plt.show()"
   ]
  },
  {
   "cell_type": "code",
   "execution_count": null,
   "id": "d4e651c3",
   "metadata": {},
   "outputs": [],
   "source": [
    "kmeans_model = KMeans(n_clusters=20, init='k-means++', verbose=0, n_jobs=-1, algorithm='full', precompute_distances=True, tol=1e-9, max_iter=500)\n",
    "\n",
    "X = kmeans_model.fit(tfidf)\n",
    "\n",
    "labels=kmeans_model.labels_.tolist()"
   ]
  },
  {
   "cell_type": "code",
   "execution_count": null,
   "id": "8cdf889f",
   "metadata": {},
   "outputs": [],
   "source": [
    "licita_all['topic'] = labels \n",
    "licita_all.to_csv('licita_modeled_20_tfidf.csv')"
   ]
  },
  {
   "cell_type": "code",
   "execution_count": null,
   "id": "958a378d",
   "metadata": {},
   "outputs": [],
   "source": [
    "licita_all[licita_all['topic']==19][['DS_OBJETO','topic']].head(20)"
   ]
  },
  {
   "cell_type": "code",
   "execution_count": null,
   "id": "723928dc",
   "metadata": {},
   "outputs": [],
   "source": [
    "remap_clusters = {0:'Medical and pharmaceutical supplies'\n",
    "                    , 1:'Cars, parts and specialized labor'\n",
    "                    , 2:'Gastos com vacinas (humanas e animais)'\n",
    "                    , 3:'Expenses with vaccines (human and animal)'\n",
    "                    , 4:'Works and renovations'\n",
    "                    , 5:'Others'\n",
    "                    , 6:'Transportation'\n",
    "                    , 7:'Medicines'\n",
    "                    , 8:'Office/Office Supplies'\n",
    "                    , 9:'Others'\n",
    "                    , 10:'Aquisição de material geral'\n",
    "                    , 11:'General material acquisition'\n",
    "                    , 12:'Services provision'\n",
    "                    , 13:'Others'\n",
    "                    , 14:'Collection and Sanitary Engineering'\n",
    "                    , 15:'Services provision'\n",
    "                    , 16:'Others'\n",
    "                    , 17:'Specialized consultancy and advisory services'\n",
    "                    , 18:'Services provision'\n",
    "                    , 19:'General material acquisition'}\n",
    "\n",
    "licita_all['TOPICS'] = licita_all['topic'].map(remap_clusters)"
   ]
  },
  {
   "cell_type": "code",
   "execution_count": null,
   "id": "9997105c",
   "metadata": {},
   "outputs": [],
   "source": [
    "licita_all_purchases = licita_all[licita_all['TP_OBJETO']=='COM']"
   ]
  },
  {
   "cell_type": "code",
   "execution_count": null,
   "id": "ca9acf5d",
   "metadata": {},
   "outputs": [],
   "source": [
    "purchases = licita_all_purchases['NR_LICITACAO']"
   ]
  },
  {
   "cell_type": "code",
   "execution_count": null,
   "id": "a6c3f888",
   "metadata": {},
   "outputs": [],
   "source": [
    "item_all_purchases = item_all[item_all['NR_LICITACAO'].isin(purchases)]"
   ]
  },
  {
   "cell_type": "code",
   "execution_count": null,
   "id": "61186fa8",
   "metadata": {},
   "outputs": [],
   "source": [
    "vectorizer = TfidfVectorizer(min_df = 30, lowercase=False, tokenizer=identity_tokenizer)\n",
    "tfidf = vectorizer.fit_transform(item_all_purchases['DS_ITEM_TOK'])"
   ]
  },
  {
   "cell_type": "code",
   "execution_count": null,
   "id": "8f971d49",
   "metadata": {},
   "outputs": [],
   "source": [
    "wcss = []\n",
    "minimum=2\n",
    "maximum=45\n",
    "step=3\n",
    "\n",
    "for n in tqdm(range(minimum, maximum, step)):\n",
    "    kmeans_model = KMeans(n_clusters=n, init='k-means++', max_iter=500, n_jobs=-1, algorithm='full', precompute_distances=True)\n",
    "    kmeans_model.fit(tfidf)\n",
    "    wcss.append(kmeans_model.inertia_)\n",
    "\n",
    "# Show graph\n",
    "x = range(minimum, maximum, step)\n",
    "\n",
    "plt.plot(x, wcss)\n",
    "plt.xlabel(\"Num Topic\")\n",
    "plt.ylabel(\"Soma dos quadrados intracluster\")\n",
    "plt.show()"
   ]
  },
  {
   "cell_type": "code",
   "execution_count": null,
   "id": "0e95941c",
   "metadata": {},
   "outputs": [],
   "source": [
    "kmeans_model = KMeans(n_clusters=14, init='k-means++', verbose=0, n_jobs=-1, algorithm='full', precompute_distances=True, tol=1e-9, max_iter=500)\n",
    "\n",
    "X = kmeans_model.fit(tfidf)\n",
    "\n",
    "labels=kmeans_model.labels_.tolist()"
   ]
  },
  {
   "cell_type": "code",
   "execution_count": null,
   "id": "97fe08d4",
   "metadata": {},
   "outputs": [],
   "source": [
    "item_all_purchases['topic'] = labels \n",
    "\n",
    "item_all_purchases.to_csv('item_modeled_14_tfidf.csv')"
   ]
  },
  {
   "cell_type": "code",
   "execution_count": null,
   "id": "cc8fc2a1",
   "metadata": {},
   "outputs": [],
   "source": [
    "item_all_purchases[['DS_ITEM', 'topic']][item_all_purchases['topic']==13].tail(20)"
   ]
  },
  {
   "cell_type": "code",
   "execution_count": null,
   "id": "d4ff4c57",
   "metadata": {},
   "outputs": [],
   "source": [
    "remap_clusters = {0:'Móveis'\n",
    "                    , 1:'Printers, Toners and Cartridges'\n",
    "                    , 2:'Hydraulic Materials, Tubes and Connections'\n",
    "                    , 3:'Materials for renovation and construction'\n",
    "                    , 4:'Others'\n",
    "                    , 5:'Others'\n",
    "                    , 6:'Tires and retread services'\n",
    "                    , 7:'Inputs for civil construction'\n",
    "                    , 8:'Electrical Installation Materials'\n",
    "                    , 9:'Others'\n",
    "                    , 10:'Inputs for civil construction'\n",
    "                    , 11:'Food kinds'\n",
    "                    , 12:'Medicine'\n",
    "                    , 13:'Others'}\n",
    "\n",
    "item_all_purchases['TOPICS'] = item_all_purchases['topic'].map(remap_clusters)"
   ]
  },
  {
   "cell_type": "markdown",
   "id": "0023d0ac",
   "metadata": {},
   "source": [
    "## Data Analysis"
   ]
  },
  {
   "cell_type": "code",
   "execution_count": null,
   "id": "084e070d",
   "metadata": {},
   "outputs": [],
   "source": [
    "licitacoes = pd.read_csv('licita_modeled_final.csv', index_col=0)\n",
    "licitacoes.head()"
   ]
  },
  {
   "cell_type": "code",
   "execution_count": null,
   "id": "93ab6ed7",
   "metadata": {},
   "outputs": [],
   "source": [
    "other_licitacoes = licitacoes[licitacoes['TOPICS']!='Outros']\n",
    "\n",
    "for year in other_licitacoes['ANO_LICITACAO'].unique():\n",
    "    labels = [str(i)[8:-2] for i in list(other_licitacoes[other_licitacoes['ANO_LICITACAO']==year].groupby(['ANO_LICITACAO', 'TOPICS']).size().index)]\n",
    "\n",
    "    colors=['yellowgreen', 'gold', 'lightskyblue', 'lightcoral', 'purple', 'gainsboro', 'lime', 'orangered', 'moccasin', 'seashell', 'slategrey', 'cadetblue', 'olivedrab']\n",
    "\n",
    "    ax = other_licitacoes[other_licitacoes['ANO_LICITACAO']==year].groupby(['ANO_LICITACAO', 'TOPICS']).size().plot(kind='pie', figsize=[23,12], colors=colors, autopct='%1.1f%%', labels=None, explode=(0, 0, 0.6, 0.3, 0.6, 0, 0, 0, 0, 0, 0, 0, 0))\n",
    "\n",
    "    ax.get_yaxis().set_visible(False)\n",
    "\n",
    "    plt.legend(loc=\"best\", labels=labels)\n",
    "    plt.show()"
   ]
  },
  {
   "cell_type": "code",
   "execution_count": null,
   "id": "496cec66",
   "metadata": {},
   "outputs": [],
   "source": [
    "df = licitacoes.groupby(['ANO_LICITACAO', 'TOPICS']).size()\n",
    "\n",
    "licitacoes_year = df.reset_index().pivot(index='ANO_LICITACAO', columns=['TOPICS'])\n",
    "\n",
    "licitacoes_year = licitacoes_year.droplevel(0, axis=1)"
   ]
  },
  {
   "cell_type": "code",
   "execution_count": null,
   "id": "37f52ebc",
   "metadata": {},
   "outputs": [],
   "source": [
    "fig, ax = plt.subplots()\n",
    "\n",
    "fig.set_size_inches(11.7, 8.27)\n",
    "sns.heatmap(licitacoes_year.pct_change().dropna(), cmap=sns.color_palette('crest', 10))"
   ]
  },
  {
   "cell_type": "code",
   "execution_count": null,
   "id": "7a05af4e",
   "metadata": {},
   "outputs": [],
   "source": [
    "def scientific(x, pos):\n",
    "    # x:  tick value - ie. what you currently see in yticks\n",
    "    # pos: a position - ie. the index of the tick (from 0 to 9 in this example)~\n",
    "    x = int(x)\n",
    "    return \"{:,}\".format(x)\n",
    "\n",
    "ax = licitacoes[['VL_LICITACAO', 'TOPICS']].boxplot(by='TOPICS', showfliers=False, figsize=[23,12])\n",
    "\n",
    "scientific_formatter = FuncFormatter(scientific)\n",
    "ax.yaxis.set_major_formatter(scientific_formatter)\n",
    "\n",
    "plt.xticks(rotation=45)\n",
    "\n",
    "plt.show()"
   ]
  },
  {
   "cell_type": "code",
   "execution_count": null,
   "id": "d64bc5cc",
   "metadata": {},
   "outputs": [],
   "source": [
    "purchases = pd.read_csv('item_modeled_final.csv', index_col=0)\n",
    "purchases.head()"
   ]
  },
  {
   "cell_type": "code",
   "execution_count": null,
   "id": "245d7722",
   "metadata": {},
   "outputs": [],
   "source": [
    "other_purchases = purchases[purchases['TOPICS']!='Outros']\n",
    "\n",
    "for year in other_purchases['ANO_LICITACAO'].unique():\n",
    "\n",
    "    labels = [str(i)[8:-2] for i in list(other_purchases[other_purchases['ANO_LICITACAO']==year].groupby(['ANO_LICITACAO', 'TOPICS']).size().index)]\n",
    "\n",
    "    colors=['yellowgreen', 'gold', 'lightskyblue', 'lightcoral', 'purple', 'gainsboro', 'lime', 'orangered', 'moccasin', 'seashell', 'slategrey', 'cadetblue', 'olivedrab']\n",
    "\n",
    "    ax = other_purchases[other_purchases['ANO_LICITACAO']==year].groupby(['ANO_LICITACAO', 'TOPICS']).size().plot(kind='pie', figsize=[23,12], colors=colors, autopct='%1.1f%%', labels=None)\n",
    "\n",
    "    ax.get_yaxis().set_visible(False)\n",
    "\n",
    "    plt.legend(loc=\"best\", labels=labels)\n",
    "    plt.show()"
   ]
  },
  {
   "cell_type": "code",
   "execution_count": null,
   "id": "e27b9058",
   "metadata": {},
   "outputs": [],
   "source": [
    "df = purchases.groupby(['ANO_LICITACAO', 'TOPICS']).size()\n",
    "\n",
    "purchases_year = df.reset_index().pivot(index='ANO_LICITACAO', columns=['TOPICS'])\n",
    "\n",
    "purchases_year = purchases_year.droplevel(0, axis=1)\n",
    "\n",
    "\n",
    "fig, ax = plt.subplots()\n",
    "\n",
    "fig.set_size_inches(11.7, 8.27)\n",
    "sns.heatmap(purchases_year.pct_change().dropna(), cmap=sns.color_palette('crest', 30))"
   ]
  },
  {
   "cell_type": "code",
   "execution_count": null,
   "id": "5f13874f",
   "metadata": {},
   "outputs": [],
   "source": [
    "purchases_year.pct_change()"
   ]
  },
  {
   "cell_type": "code",
   "execution_count": null,
   "id": "6f510e96",
   "metadata": {},
   "outputs": [],
   "source": [
    "ax = purchases[['VL_TOTAL_ESTIMADO', 'TOPICS']].boxplot(by='TOPICS', showfliers=False, figsize=[23,12])\n",
    "\n",
    "scientific_formatter = FuncFormatter(scientific)\n",
    "ax.yaxis.set_major_formatter(scientific_formatter)\n",
    "\n",
    "plt.xticks(rotation=45)\n",
    "\n",
    "plt.show()"
   ]
  }
 ],
 "metadata": {
  "kernelspec": {
   "display_name": "Python 3 (ipykernel)",
   "language": "python",
   "name": "python3"
  },
  "language_info": {
   "codemirror_mode": {
    "name": "ipython",
    "version": 3
   },
   "file_extension": ".py",
   "mimetype": "text/x-python",
   "name": "python",
   "nbconvert_exporter": "python",
   "pygments_lexer": "ipython3",
   "version": "3.10.1"
  }
 },
 "nbformat": 4,
 "nbformat_minor": 5
}
